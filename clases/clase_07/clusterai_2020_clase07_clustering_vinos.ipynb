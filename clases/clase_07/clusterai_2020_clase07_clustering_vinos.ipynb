{
 "cells": [
  {
   "cell_type": "markdown",
   "metadata": {},
   "source": [
    "# ClusterAI 2020\n",
    "# Ciencia de Datos - Ingeniería Industrial - UTN BA\n",
    "# clase_07: Practica Clustering: Wine Data Set\n",
    "### Elaborado por: Nicolás Aguirre"
   ]
  },
  {
   "cell_type": "markdown",
   "metadata": {},
   "source": [
    "# Importamos Librerias"
   ]
  },
  {
   "cell_type": "code",
   "execution_count": null,
   "metadata": {},
   "outputs": [],
   "source": [
    "# importamos las librerías necesarias para trabajar.\n",
    "import numpy as np\n",
    "import pandas as pd\n",
    "import matplotlib.pyplot as plt\n",
    "import matplotlib.cm as cm\n",
    "import seaborn as sns\n",
    "from sklearn import preprocessing"
   ]
  },
  {
   "cell_type": "code",
   "execution_count": null,
   "metadata": {},
   "outputs": [],
   "source": [
    "# Importamos librerias de PCA y silhouette_score\n",
    "from sklearn.decomposition import PCA\n",
    "from  sklearn.metrics import silhouette_score"
   ]
  },
  {
   "cell_type": "code",
   "execution_count": null,
   "metadata": {},
   "outputs": [],
   "source": [
    "# Importamos librerias de Clustering\n",
    "from sklearn.cluster import KMeans\n",
    "from scipy.cluster.hierarchy import dendrogram, linkage \n",
    "from sklearn.cluster import AgglomerativeClustering"
   ]
  },
  {
   "cell_type": "markdown",
   "metadata": {},
   "source": [
    "# Repositorio del Dataset\n",
    "## Wine Data Set:\n",
    "\n",
    "https://archive.ics.uci.edu/ml/datasets/Wine"
   ]
  },
  {
   "cell_type": "markdown",
   "metadata": {},
   "source": [
    "# Importamos Dataset"
   ]
  },
  {
   "cell_type": "code",
   "execution_count": null,
   "metadata": {},
   "outputs": [],
   "source": [
    "names_col = ['G','Alcohol','Malic acid','Ash','Alcalinity of ash','Magnesium','Total phenols',\n",
    "             'Flavanoids','Nonflavanoid phenols','Proanthocyanins','Color intensity','Hue',\n",
    "             'OD280/OD315 of diluted wines','Proline']\n",
    "\n",
    "wine_df = pd.read_csv('../../datasets/vinos/clusterai2020_clase07_wine.data', delimiter=',', names=names_col)"
   ]
  },
  {
   "cell_type": "code",
   "execution_count": null,
   "metadata": {
    "scrolled": true
   },
   "outputs": [],
   "source": [
    "wine_df.head()"
   ]
  },
  {
   "cell_type": "code",
   "execution_count": null,
   "metadata": {
    "scrolled": true
   },
   "outputs": [],
   "source": [
    "wine_df.shape"
   ]
  },
  {
   "cell_type": "code",
   "execution_count": null,
   "metadata": {},
   "outputs": [],
   "source": [
    "wine_df.isnull().sum()"
   ]
  },
  {
   "cell_type": "code",
   "execution_count": null,
   "metadata": {},
   "outputs": [],
   "source": [
    "# Definimos nuestro X\n",
    "x = wine_df.iloc[:,1:]\n",
    "display(x.head())\n",
    "print(x.shape)"
   ]
  },
  {
   "cell_type": "code",
   "execution_count": null,
   "metadata": {},
   "outputs": [],
   "source": [
    "# Vamos a crear un dataframe para guardar los resultados\n",
    "results_df = pd.DataFrame(columns=['Cluster','Acc','Sill'])"
   ]
  },
  {
   "cell_type": "markdown",
   "metadata": {},
   "source": [
    "# Auto-Scaling"
   ]
  },
  {
   "cell_type": "code",
   "execution_count": null,
   "metadata": {},
   "outputs": [],
   "source": [
    "# Realizamos un autoscaling con los datos, para todas las features\n",
    "scaler = preprocessing.StandardScaler().fit(x)"
   ]
  },
  {
   "cell_type": "code",
   "execution_count": null,
   "metadata": {},
   "outputs": [],
   "source": [
    "xscal = scaler.transform(x)"
   ]
  },
  {
   "cell_type": "markdown",
   "metadata": {},
   "source": [
    "# K-MEANS"
   ]
  },
  {
   "cell_type": "code",
   "execution_count": null,
   "metadata": {},
   "outputs": [],
   "source": [
    "dist_cent = []\n",
    "sill_list = []\n",
    "for k in range(2, 10):\n",
    "    kmeans = KMeans(n_clusters=k, random_state=1).fit(xscal)\n",
    "    sill_score = silhouette_score(xscal,kmeans.labels_)\n",
    "    sill_list.append(sill_score)\n",
    "    dist_cent.append(kmeans.inertia_)\n",
    "plt.plot(range(2, 10), dist_cent, marker='s');\n",
    "plt.xlabel('N° K')\n",
    "plt.ylabel('Sum of squared distances')\n",
    "plt.show()\n",
    "plt.plot(range(2, 10), sill_list, marker='s');\n",
    "plt.xlabel('N° K')\n",
    "plt.ylabel('Silhouette')\n",
    "plt.show()\n"
   ]
  },
  {
   "cell_type": "code",
   "execution_count": null,
   "metadata": {
    "scrolled": false
   },
   "outputs": [],
   "source": [
    "# Generamos un PCA con los datos luego del autoscaling\n",
    "import matplotlib.cm as cm\n",
    "from sklearn import decomposition\n",
    "\n",
    "# Usamos el objeto PCA de la libreria 'decomposition'\n",
    "# Definimos la cantidad de componentes\n",
    "n_comps = 13\n",
    "components = range(1,n_comps + 1) \n",
    "pca = decomposition.PCA(n_components=n_comps)\n",
    "\n",
    "# Ajustamos\n",
    "pca.fit(xscal)\n",
    "\n",
    "# Transformamos\n",
    "xpca = pca.transform(xscal)\n",
    "\n",
    "# Porcentaje de la varianza explicada por cada PC\n",
    "eigenvalues = pca.explained_variance_ratio_\n",
    "\n",
    "# Suma acumulada\n",
    "eigenvalues_acum = pca.explained_variance_ratio_.cumsum() \n",
    "\n",
    "# Graficamos\n",
    "# Eje Izquierdo\n",
    "fig, ax1 = plt.subplots(figsize=(9,6))\n",
    "ax1.set_xlabel('Top PC')\n",
    "ax1.set_ylabel('Varianza Explicada', color='k')\n",
    "ax1.bar(components, eigenvalues, color='blue')\n",
    "ax1.tick_params(axis='y', labelcolor='blue')\n",
    "\n",
    "# Eje derecho\n",
    "ax2 = ax1.twinx()  # instantiate a second axes that shares the same x-axis\n",
    "ax2.set_ylabel('Varianza Acumulada', color='k') \n",
    "ax2.plot(components, eigenvalues_acum, color='red') \n",
    "ax2.tick_params(axis='y', labelcolor='red')\n",
    "\n",
    "fig.tight_layout()  # otherwise the right y-label is slightly clipped\n",
    "plt.show()"
   ]
  },
  {
   "cell_type": "code",
   "execution_count": null,
   "metadata": {},
   "outputs": [],
   "source": [
    "# De la libreria:\n",
    "# 'Principal axes in feature space, representing the directions of maximum variance in the data'\n",
    "# The components are sorted by explained_variance_\n",
    "pd.DataFrame(pca.components_[0:n_comps,:],columns=x.columns)\n",
    "\n",
    "# En criollo:\n",
    "# Es la direccion de los ejes de cada componente (autovectores)"
   ]
  },
  {
   "cell_type": "code",
   "execution_count": null,
   "metadata": {
    "scrolled": false
   },
   "outputs": [],
   "source": [
    "# scatter plot de los datos, solamente con 2 PC\n",
    "plt.figure(figsize=(9,6))\n",
    "plt.scatter(xpca[:,0],xpca[:,1])    \n",
    "plt.xlabel('PC 1')\n",
    "plt.ylabel('PC 2')\n",
    "plt.title('Figura de PC1 y PC2')\n",
    "plt.show()"
   ]
  },
  {
   "cell_type": "code",
   "execution_count": null,
   "metadata": {},
   "outputs": [],
   "source": [
    "# Generamos un modelo de K means con 3 clusters con los datos autoscalados\n",
    "kmeans = KMeans(n_clusters=3, random_state=10).fit(xscal)"
   ]
  },
  {
   "cell_type": "markdown",
   "metadata": {},
   "source": [
    "**Pregunta: Como se define el numero de cluster del Kmean?**"
   ]
  },
  {
   "cell_type": "code",
   "execution_count": null,
   "metadata": {},
   "outputs": [],
   "source": [
    "# una vez realizado el clusering, observamos los labels de cluster asignadas a cada muestra\n",
    "kmeans.labels_ = kmeans.labels_+1\n",
    "kmeans.labels_"
   ]
  },
  {
   "cell_type": "code",
   "execution_count": null,
   "metadata": {
    "scrolled": false
   },
   "outputs": [],
   "source": [
    "# visualizamos los centroides finales de cada cluster\n",
    "centers = kmeans.cluster_centers_\n",
    "centers"
   ]
  },
  {
   "cell_type": "code",
   "execution_count": null,
   "metadata": {
    "scrolled": false
   },
   "outputs": [],
   "source": [
    "# Scatter plot de muestras y centroides con 2 PC: segun Cluster verdadero vs Clustering con K-Means\n",
    "\n",
    "#Verdadero\n",
    "plt.figure(figsize=(9,6))\n",
    "plt.scatter(xpca[:,0],xpca[:,1],c=wine_df['G'].astype(float))    \n",
    "plt.xlabel('PC 1')\n",
    "plt.ylabel('PC 2')\n",
    "plt.title('Clustering Verdadero')\n",
    "# K-Means\n",
    "plt.figure(figsize=(9,6))\n",
    "plt.scatter(xpca[:,0],xpca[:,1],c=kmeans.labels_.astype(float))\n",
    "plt.scatter(centers[:,0], centers[:,1], marker=\"x\", color='r',s=150)\n",
    "plt.xlabel('PC 1')\n",
    "plt.ylabel('PC 2')\n",
    "plt.title('Clustering K-Means')\n",
    "plt.show()"
   ]
  },
  {
   "cell_type": "markdown",
   "metadata": {},
   "source": [
    "**PREGUNTA:**\n",
    "\n",
    "**¿Son correctos los centroides?**"
   ]
  },
  {
   "cell_type": "markdown",
   "metadata": {},
   "source": [
    "### Metricas del Kmeans"
   ]
  },
  {
   "cell_type": "code",
   "execution_count": null,
   "metadata": {
    "scrolled": true
   },
   "outputs": [],
   "source": [
    "# Metricas\n",
    "# Cantidad de errores\n",
    "q_wrong = kmeans.labels_ - wine_df['G']\n",
    "q_wrong = (q_wrong!=0).sum()\n",
    "print(q_wrong)\n",
    "#Accuracy\n",
    "acc = ( x.shape[0] - q_wrong ) / x.shape[0]\n",
    "#Sill. score\n",
    "sill_score = silhouette_score(xscal,kmeans.labels_)\n",
    "print(acc)\n",
    "print(sill_score)"
   ]
  },
  {
   "cell_type": "code",
   "execution_count": null,
   "metadata": {},
   "outputs": [],
   "source": [
    "#Guardamos los resultados\n",
    "results_df = results_df.append({'Cluster':'Kmeans',\n",
    "                                'Acc':acc,\n",
    "                                'Sill':sill_score},ignore_index=True)\n"
   ]
  },
  {
   "cell_type": "markdown",
   "metadata": {},
   "source": [
    "# Reduccion de Dimensionalidad (RD) + K-Means"
   ]
  },
  {
   "cell_type": "markdown",
   "metadata": {},
   "source": [
    "Ahora vamos dejar de usar las 13 variables originales.\n",
    "\n",
    "Vamos a clusterizar con lo que nos puedan explicar UNICAMENTE los primeros 2 PC, y compararemos los resultados."
   ]
  },
  {
   "cell_type": "code",
   "execution_count": null,
   "metadata": {},
   "outputs": [],
   "source": [
    "reduced_dim = 2\n",
    "xpca_rd = xpca[:,0:reduced_dim]"
   ]
  },
  {
   "cell_type": "code",
   "execution_count": null,
   "metadata": {},
   "outputs": [],
   "source": [
    "# Generamos el modelo K-means + RD\n",
    "kmeans_rd = KMeans(n_clusters=3, random_state=10).fit(xpca_rd)"
   ]
  },
  {
   "cell_type": "code",
   "execution_count": null,
   "metadata": {},
   "outputs": [],
   "source": [
    "# una vez realizado el clusering, observamos las labels de cluster asignadas a cada muestra\n",
    "kmeans_rd.labels_ = kmeans_rd.labels_ +1\n",
    "kmeans_rd.labels_"
   ]
  },
  {
   "cell_type": "code",
   "execution_count": null,
   "metadata": {},
   "outputs": [],
   "source": [
    "# visualizamos los centroides finales de cada cluster\n",
    "centers_rd = kmeans_rd.cluster_centers_\n",
    "centers_rd"
   ]
  },
  {
   "cell_type": "code",
   "execution_count": null,
   "metadata": {
    "scrolled": false
   },
   "outputs": [],
   "source": [
    "# Scatter plot con 2 PC: segun Cluster verdadero vs Clustering con K-Means+RD\n",
    "\n",
    "#Verdadero\n",
    "plt.figure(figsize=(9,6))\n",
    "plt.scatter(xpca[:,0],xpca[:,1],c=wine_df['G'].astype(float))    \n",
    "plt.xlabel('PC 1')\n",
    "plt.ylabel('PC 2')\n",
    "plt.title('Clustering Verdadero')\n",
    "# K-Means + RD\n",
    "plt.figure(figsize=(9,6))\n",
    "plt.scatter(xpca_rd[:,0],xpca_rd[:,1],c=kmeans_rd.labels_.astype(float))\n",
    "plt.scatter(centers_rd[:,0], centers_rd[:,1], marker=\"x\", color='r',s=150)\n",
    "plt.xlabel('PC 1')\n",
    "plt.ylabel('PC 2')\n",
    "plt.title('Clustering K-means+RD')\n",
    "plt.show()"
   ]
  },
  {
   "cell_type": "markdown",
   "metadata": {},
   "source": [
    "**PREGUNTA:**\n",
    "\n",
    "**¿Y aca que sucedió?**"
   ]
  },
  {
   "cell_type": "markdown",
   "metadata": {},
   "source": [
    "### Metricas RD + K-Means"
   ]
  },
  {
   "cell_type": "code",
   "execution_count": null,
   "metadata": {},
   "outputs": [],
   "source": [
    "# Metricas\n",
    "q_wrong = kmeans_rd.labels_ - wine_df['G']\n",
    "q_wrong = (q_wrong!=0).sum()\n",
    "print(q_wrong)\n",
    "acc_rd = ( x.shape[0] - q_wrong ) / x.shape[0]\n",
    "\n",
    "sill_score_rd = silhouette_score(xpca_rd,kmeans_rd.labels_)\n",
    "\n",
    "print(acc_rd)\n",
    "print(sill_score_rd)"
   ]
  },
  {
   "cell_type": "code",
   "execution_count": null,
   "metadata": {},
   "outputs": [],
   "source": [
    "#Guardamos los resultados\n",
    "results_df = results_df.append({'Cluster':'PCA + Kmeans',\n",
    "                                'Acc':acc_rd,\n",
    "                                'Sill':sill_score_rd},ignore_index=True)"
   ]
  },
  {
   "cell_type": "code",
   "execution_count": null,
   "metadata": {
    "scrolled": false
   },
   "outputs": [],
   "source": [
    "pd.DataFrame(pca.components_[0:reduced_dim,:],columns=x.columns)"
   ]
  },
  {
   "cell_type": "markdown",
   "metadata": {},
   "source": [
    "## Recontrusccion"
   ]
  },
  {
   "cell_type": "markdown",
   "metadata": {},
   "source": [
    "**Si quisieramos volver a nuestro espacio original, consideremos que:**\n",
    "\n",
    "X = PCAvalores * PCAdirecciones\n",
    "\n",
    "X = PCAscores * PCAcomponents \n",
    "\n",
    "X = Autovalores * Autovectores\n",
    "\n",
    "Solo nos quedaria un detalle. Sumar la media de X.\n",
    "\n",
    "**¿POR QUE?**\n",
    "\n",
    "X = Autovalores * Autovectores + Xmedia\n",
    "\n",
    "**Entonces:**\n",
    "\n",
    "X_reconstruida = Autovalores(n_componentes) * Autovectores(n_componentes) + Xmedia"
   ]
  },
  {
   "cell_type": "code",
   "execution_count": null,
   "metadata": {},
   "outputs": [],
   "source": [
    "mu = np.mean(x, axis=0)\n",
    "# 2 PCA\n",
    "xpca_rd = xpca[:,0:reduced_dim]\n",
    "x_reconstruido = np.dot(xpca_rd, pca.components_[0:reduced_dim,:])\n",
    "x_reconstruido += mu\n",
    "x_reconstruido_df = pd.DataFrame(x_reconstruido,columns=x.columns)\n",
    "\n",
    "# Muestramos la reconstruccion\n",
    "sample = np.random.randint(0,high=x.shape[0])\n",
    "display(x.iloc[sample,:].to_frame().transpose())\n",
    "display(x_reconstruido_df.iloc[sample,:].to_frame().transpose())"
   ]
  },
  {
   "cell_type": "markdown",
   "metadata": {},
   "source": [
    "## Consultas?"
   ]
  },
  {
   "cell_type": "markdown",
   "metadata": {},
   "source": [
    "# Clustering Jerárquico"
   ]
  },
  {
   "cell_type": "code",
   "execution_count": null,
   "metadata": {},
   "outputs": [],
   "source": [
    "# Definimos el linkage\n",
    "Z = linkage(xscal, 'ward')"
   ]
  },
  {
   "cell_type": "code",
   "execution_count": null,
   "metadata": {},
   "outputs": [],
   "source": [
    "# Threshold (Similaridad)\n",
    "dist_cluster = 10"
   ]
  },
  {
   "cell_type": "code",
   "execution_count": null,
   "metadata": {
    "scrolled": false
   },
   "outputs": [],
   "source": [
    "plt.figure(figsize=(25, 10))\n",
    "dendrogram(Z,color_threshold=dist_cluster)\n",
    "plt.axhline(c='k',linestyle='--', y=dist_cluster)\n",
    "plt.show()"
   ]
  },
  {
   "cell_type": "code",
   "execution_count": null,
   "metadata": {
    "scrolled": false
   },
   "outputs": [],
   "source": [
    "#dist_cluster = ?\n",
    "#q_clusters = ?\n",
    "\n",
    "dist_cluster = 20\n",
    "plt.figure(figsize=(25, 10))\n",
    "dendrogram(Z,color_threshold=dist_cluster)\n",
    "plt.axhline(c='k',linestyle='--', y=dist_cluster)\n",
    "plt.show()\n",
    "\n",
    "cluster = AgglomerativeClustering(n_clusters=None, distance_threshold =dist_cluster,\n",
    "                                  affinity='euclidean',\n",
    "                                  linkage='ward')\n",
    "cluster.fit_predict(xscal)\n",
    "cluster.labels_= cluster.labels_+1\n",
    "cluster.labels_"
   ]
  },
  {
   "cell_type": "markdown",
   "metadata": {},
   "source": [
    "### SOLO PORQUE SABEMOS EL GROUND TRUE DE LOS CLUSTERS LOS AJUSTO MANUALENTE PARA CALCULAR EL ACCURACY ! !"
   ]
  },
  {
   "cell_type": "code",
   "execution_count": null,
   "metadata": {},
   "outputs": [],
   "source": [
    "for i in np.arange(0,x.shape[0]):\n",
    "    if cluster.labels_[i]==3:\n",
    "        cluster.labels_[i]=1\n",
    "    elif cluster.labels_[i]==2:\n",
    "        cluster.labels_[i]=3\n",
    "    elif cluster.labels_[i]==1:\n",
    "        cluster.labels_[i]=2"
   ]
  },
  {
   "cell_type": "code",
   "execution_count": null,
   "metadata": {},
   "outputs": [],
   "source": [
    "cluster.labels_"
   ]
  },
  {
   "cell_type": "code",
   "execution_count": null,
   "metadata": {},
   "outputs": [],
   "source": [
    "plt.figure(figsize=(9, 6))\n",
    "plt.scatter(xpca[:,0], xpca[:,1], c=cluster.labels_,)\n",
    "plt.show()"
   ]
  },
  {
   "cell_type": "code",
   "execution_count": null,
   "metadata": {},
   "outputs": [],
   "source": [
    "# Metricas\n",
    "q_wrong = cluster.labels_ - wine_df['G']\n",
    "q_wrong = (q_wrong!=0).sum()\n",
    "print(q_wrong)\n",
    "acc3 = ( x.shape[0] - q_wrong ) / x.shape[0]\n",
    "sill_score_h = silhouette_score(xscal,cluster.labels_)\n",
    "\n",
    "print(acc3)\n",
    "print(sill_score_h)"
   ]
  },
  {
   "cell_type": "code",
   "execution_count": null,
   "metadata": {},
   "outputs": [],
   "source": [
    "#Guardamos los resultados\n",
    "results_df = results_df.append({'Cluster':'Hierarchy',\n",
    "                                'Acc':acc3,\n",
    "                                'Sill':sill_score_h},ignore_index=True)"
   ]
  },
  {
   "cell_type": "markdown",
   "metadata": {},
   "source": [
    "# Resultados"
   ]
  },
  {
   "cell_type": "code",
   "execution_count": null,
   "metadata": {},
   "outputs": [],
   "source": [
    "display(results_df)"
   ]
  },
  {
   "cell_type": "markdown",
   "metadata": {},
   "source": [
    "# Preguntas ?"
   ]
  }
 ],
 "metadata": {
  "kernelspec": {
   "display_name": "Python 3",
   "language": "python",
   "name": "python3"
  },
  "language_info": {
   "codemirror_mode": {
    "name": "ipython",
    "version": 3
   },
   "file_extension": ".py",
   "mimetype": "text/x-python",
   "name": "python",
   "nbconvert_exporter": "python",
   "pygments_lexer": "ipython3",
   "version": "3.6.8"
  }
 },
 "nbformat": 4,
 "nbformat_minor": 2
}
